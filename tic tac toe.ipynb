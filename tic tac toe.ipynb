{
 "cells": [
  {
   "cell_type": "code",
   "execution_count": 1,
   "id": "9f954289-18fe-484a-84d2-1d3f0603589a",
   "metadata": {},
   "outputs": [
    {
     "name": "stdout",
     "output_type": "stream",
     "text": [
      "|   |   |   |\n",
      "|   |   |   |\n",
      "|   |   |   |\n"
     ]
    },
    {
     "name": "stdin",
     "output_type": "stream",
     "text": [
      "Enter your move (1-9):  5\n"
     ]
    },
    {
     "name": "stdout",
     "output_type": "stream",
     "text": [
      "| O |   |   |\n",
      "|   | X |   |\n",
      "|   |   |   |\n"
     ]
    },
    {
     "name": "stdin",
     "output_type": "stream",
     "text": [
      "Enter your move (1-9):  9\n"
     ]
    },
    {
     "name": "stdout",
     "output_type": "stream",
     "text": [
      "| O |   | O |\n",
      "|   | X |   |\n",
      "|   |   | X |\n"
     ]
    },
    {
     "name": "stdin",
     "output_type": "stream",
     "text": [
      "Enter your move (1-9):  2\n"
     ]
    },
    {
     "name": "stdout",
     "output_type": "stream",
     "text": [
      "| O | X | O |\n",
      "|   | X |   |\n",
      "|   | O | X |\n"
     ]
    },
    {
     "name": "stdin",
     "output_type": "stream",
     "text": [
      "Enter your move (1-9):  4\n"
     ]
    },
    {
     "name": "stdout",
     "output_type": "stream",
     "text": [
      "| O | X | O |\n",
      "| X | X | O |\n",
      "|   | O | X |\n"
     ]
    },
    {
     "name": "stdin",
     "output_type": "stream",
     "text": [
      "Enter your move (1-9):  7\n"
     ]
    },
    {
     "name": "stdout",
     "output_type": "stream",
     "text": [
      "| O | X | O |\n",
      "| X | X | O |\n",
      "| X | O | X |\n",
      "It's a tie!\n"
     ]
    }
   ],
   "source": [
    "import math\n",
    "board = [' ' for _ in range(9)]\n",
    "\n",
    "def print_board():\n",
    "    for row in [board[i*3:(i+1)*3] for i in range(3)]:\n",
    "        print('| ' + ' | '.join(row) + ' |')\n",
    "\n",
    "def is_winner(board, player):\n",
    "    win_conditions = [\n",
    "        [board[0], board[1], board[2]],\n",
    "        [board[3], board[4], board[5]],\n",
    "        [board[6], board[7], board[8]],\n",
    "        [board[0], board[3], board[6]],\n",
    "        [board[1], board[4], board[7]],\n",
    "        [board[2], board[5], board[8]],\n",
    "        [board[0], board[4], board[8]],\n",
    "        [board[2], board[4], board[6]]\n",
    "    ]\n",
    "    return [player, player, player] in win_conditions\n",
    "\n",
    "def is_board_full(board):\n",
    "    return ' ' not in board\n",
    "\n",
    "def minimax(board, depth, is_maximizing, alpha, beta):\n",
    "    if is_winner(board, 'O'):\n",
    "        return 1\n",
    "    if is_winner(board, 'X'):\n",
    "        return -1\n",
    "    if is_board_full(board):\n",
    "        return 0\n",
    "\n",
    "    if is_maximizing:\n",
    "        best_score = -math.inf\n",
    "        for i in range(9):\n",
    "            if board[i] == ' ':\n",
    "                board[i] = 'O'\n",
    "                score = minimax(board, depth + 1, False, alpha, beta)\n",
    "                board[i] = ' '\n",
    "                best_score = max(score, best_score)\n",
    "                alpha = max(alpha, score)\n",
    "                if beta <= alpha:\n",
    "                    break\n",
    "        return best_score\n",
    "    else:\n",
    "        best_score = math.inf\n",
    "        for i in range(9):\n",
    "            if board[i] == ' ':\n",
    "                board[i] = 'X'\n",
    "                score = minimax(board, depth + 1, True, alpha, beta)\n",
    "                board[i] = ' '\n",
    "                best_score = min(score, best_score)\n",
    "                beta = min(beta, score)\n",
    "                if beta <= alpha:\n",
    "                    break\n",
    "        return best_score\n",
    "\n",
    "def best_move():\n",
    "    best_score = -math.inf\n",
    "    move = 0\n",
    "    for i in range(9):\n",
    "        if board[i] == ' ':\n",
    "            board[i] = 'O'\n",
    "            score = minimax(board, 0, False, -math.inf, math.inf)\n",
    "            board[i] = ' '\n",
    "            if score > best_score:\n",
    "                best_score = score\n",
    "                move = i\n",
    "    return move\n",
    "\n",
    "def play_game():\n",
    "    print_board()\n",
    "    while True:\n",
    "        # Player move\n",
    "        move = int(input(\"Enter your move (1-9): \")) - 1\n",
    "        if board[move] == ' ':\n",
    "            board[move] = 'X'\n",
    "        else:\n",
    "            print(\"Invalid move. Try again.\")\n",
    "            continue\n",
    "\n",
    "        if is_winner(board, 'X'):\n",
    "            print_board()\n",
    "            print(\"You win!\")\n",
    "            break\n",
    "\n",
    "        if is_board_full(board):\n",
    "            print_board()\n",
    "            print(\"It's a tie!\")\n",
    "            break\n",
    "\n",
    "        board[best_move()] = 'O'\n",
    "        print_board()\n",
    "\n",
    "        if is_winner(board, 'O'):\n",
    "            print(\"AI wins!\")\n",
    "            break\n",
    "\n",
    "        if is_board_full(board):\n",
    "            print(\"It's a tie!\")\n",
    "            break\n",
    "\n",
    "if __name__ == \"__main__\":\n",
    "    play_game()\n"
   ]
  }
 ],
 "metadata": {
  "kernelspec": {
   "display_name": "Python 3 (ipykernel)",
   "language": "python",
   "name": "python3"
  },
  "language_info": {
   "codemirror_mode": {
    "name": "ipython",
    "version": 3
   },
   "file_extension": ".py",
   "mimetype": "text/x-python",
   "name": "python",
   "nbconvert_exporter": "python",
   "pygments_lexer": "ipython3",
   "version": "3.11.5"
  }
 },
 "nbformat": 4,
 "nbformat_minor": 5
}
